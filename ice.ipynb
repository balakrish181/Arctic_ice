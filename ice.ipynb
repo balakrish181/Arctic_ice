{
 "cells": [
  {
   "cell_type": "code",
   "execution_count": 94,
   "metadata": {},
   "outputs": [],
   "source": [
    "import numpy as np\n",
    "import pandas as pd\n",
    "import matplotlib.pyplot as plt"
   ]
  },
  {
   "cell_type": "code",
   "execution_count": 95,
   "metadata": {},
   "outputs": [],
   "source": [
    "csv = [pd.read_csv(f\"N_{str(i).zfill(2)}_extent_v3.0.csv\") for i in range(1, 13)]\n"
   ]
  },
  {
   "cell_type": "code",
   "execution_count": 96,
   "metadata": {},
   "outputs": [
    {
     "data": {
      "text/plain": [
       "(541, 6)"
      ]
     },
     "execution_count": 96,
     "metadata": {},
     "output_type": "execute_result"
    }
   ],
   "source": [
    "ice = pd.concat(csv, axis=0, ignore_index=True)\n",
    "ice.shape"
   ]
  },
  {
   "cell_type": "code",
   "execution_count": 120,
   "metadata": {},
   "outputs": [
    {
     "data": {
      "text/plain": [
       "year         0\n",
       "mo           0\n",
       "data-type    0\n",
       "region       0\n",
       "extent       2\n",
       "area         3\n",
       "dtype: int64"
      ]
     },
     "execution_count": 120,
     "metadata": {},
     "output_type": "execute_result"
    }
   ],
   "source": [
    "columns = ice.columns\n",
    "name = [col.strip() for col in columns]\n",
    "ice.columns = name\n",
    "ice['extent'] = np.where(abs(ice['extent']) > 20 , np.nan, ice['extent'])\n",
    "ice['area'] = np.where(abs(ice['area']) > 20, np.nan, ice['area'])\n",
    "df = ice.dropna()\n",
    "ice.isna().sum()"
   ]
  },
  {
   "cell_type": "code",
   "execution_count": 121,
   "metadata": {},
   "outputs": [],
   "source": [
    "grouped_mean = ice.groupby(['year','mo','data-type','region']).mean().reset_index()\n"
   ]
  },
  {
   "cell_type": "code",
   "execution_count": 129,
   "metadata": {},
   "outputs": [
    {
     "data": {
      "text/html": [
       "<div>\n",
       "<style scoped>\n",
       "    .dataframe tbody tr th:only-of-type {\n",
       "        vertical-align: middle;\n",
       "    }\n",
       "\n",
       "    .dataframe tbody tr th {\n",
       "        vertical-align: top;\n",
       "    }\n",
       "\n",
       "    .dataframe thead th {\n",
       "        text-align: right;\n",
       "    }\n",
       "</style>\n",
       "<table border=\"1\" class=\"dataframe\">\n",
       "  <thead>\n",
       "    <tr style=\"text-align: right;\">\n",
       "      <th></th>\n",
       "      <th>year</th>\n",
       "      <th>mo</th>\n",
       "      <th>data-type</th>\n",
       "      <th>region</th>\n",
       "      <th>extent</th>\n",
       "      <th>area</th>\n",
       "    </tr>\n",
       "  </thead>\n",
       "  <tbody>\n",
       "    <tr>\n",
       "      <th>529</th>\n",
       "      <td>2022</td>\n",
       "      <td>12</td>\n",
       "      <td>Goddard</td>\n",
       "      <td>N</td>\n",
       "      <td>11.89</td>\n",
       "      <td>10.27</td>\n",
       "    </tr>\n",
       "    <tr>\n",
       "      <th>530</th>\n",
       "      <td>2023</td>\n",
       "      <td>1</td>\n",
       "      <td>NRTSI-G</td>\n",
       "      <td>N</td>\n",
       "      <td>13.35</td>\n",
       "      <td>11.83</td>\n",
       "    </tr>\n",
       "    <tr>\n",
       "      <th>531</th>\n",
       "      <td>2023</td>\n",
       "      <td>2</td>\n",
       "      <td>NRTSI-G</td>\n",
       "      <td>N</td>\n",
       "      <td>14.18</td>\n",
       "      <td>12.57</td>\n",
       "    </tr>\n",
       "    <tr>\n",
       "      <th>532</th>\n",
       "      <td>2023</td>\n",
       "      <td>3</td>\n",
       "      <td>NRTSI-G</td>\n",
       "      <td>N</td>\n",
       "      <td>14.44</td>\n",
       "      <td>12.87</td>\n",
       "    </tr>\n",
       "    <tr>\n",
       "      <th>533</th>\n",
       "      <td>2023</td>\n",
       "      <td>4</td>\n",
       "      <td>NRTSI-G</td>\n",
       "      <td>N</td>\n",
       "      <td>13.99</td>\n",
       "      <td>12.50</td>\n",
       "    </tr>\n",
       "    <tr>\n",
       "      <th>534</th>\n",
       "      <td>2023</td>\n",
       "      <td>5</td>\n",
       "      <td>NRTSI-G</td>\n",
       "      <td>N</td>\n",
       "      <td>12.83</td>\n",
       "      <td>11.02</td>\n",
       "    </tr>\n",
       "    <tr>\n",
       "      <th>535</th>\n",
       "      <td>2023</td>\n",
       "      <td>6</td>\n",
       "      <td>NRTSI-G</td>\n",
       "      <td>N</td>\n",
       "      <td>10.96</td>\n",
       "      <td>8.71</td>\n",
       "    </tr>\n",
       "    <tr>\n",
       "      <th>536</th>\n",
       "      <td>2023</td>\n",
       "      <td>7</td>\n",
       "      <td>NRTSI-G</td>\n",
       "      <td>N</td>\n",
       "      <td>8.18</td>\n",
       "      <td>5.54</td>\n",
       "    </tr>\n",
       "    <tr>\n",
       "      <th>537</th>\n",
       "      <td>2023</td>\n",
       "      <td>8</td>\n",
       "      <td>NRTSI-G</td>\n",
       "      <td>N</td>\n",
       "      <td>5.57</td>\n",
       "      <td>3.52</td>\n",
       "    </tr>\n",
       "    <tr>\n",
       "      <th>538</th>\n",
       "      <td>2023</td>\n",
       "      <td>9</td>\n",
       "      <td>NRTSI-G</td>\n",
       "      <td>N</td>\n",
       "      <td>4.37</td>\n",
       "      <td>2.79</td>\n",
       "    </tr>\n",
       "    <tr>\n",
       "      <th>539</th>\n",
       "      <td>2023</td>\n",
       "      <td>10</td>\n",
       "      <td>NRTSI-G</td>\n",
       "      <td>N</td>\n",
       "      <td>6.37</td>\n",
       "      <td>4.86</td>\n",
       "    </tr>\n",
       "    <tr>\n",
       "      <th>540</th>\n",
       "      <td>2023</td>\n",
       "      <td>11</td>\n",
       "      <td>NRTSI-G</td>\n",
       "      <td>N</td>\n",
       "      <td>9.66</td>\n",
       "      <td>8.30</td>\n",
       "    </tr>\n",
       "  </tbody>\n",
       "</table>\n",
       "</div>"
      ],
      "text/plain": [
       "     year  mo      data-type   region  extent   area\n",
       "529  2022  12        Goddard        N   11.89  10.27\n",
       "530  2023   1        NRTSI-G        N   13.35  11.83\n",
       "531  2023   2        NRTSI-G        N   14.18  12.57\n",
       "532  2023   3        NRTSI-G        N   14.44  12.87\n",
       "533  2023   4        NRTSI-G        N   13.99  12.50\n",
       "534  2023   5        NRTSI-G        N   12.83  11.02\n",
       "535  2023   6        NRTSI-G        N   10.96   8.71\n",
       "536  2023   7        NRTSI-G        N    8.18   5.54\n",
       "537  2023   8        NRTSI-G        N    5.57   3.52\n",
       "538  2023   9        NRTSI-G        N    4.37   2.79\n",
       "539  2023  10        NRTSI-G        N    6.37   4.86\n",
       "540  2023  11        NRTSI-G        N    9.66   8.30"
      ]
     },
     "execution_count": 129,
     "metadata": {},
     "output_type": "execute_result"
    }
   ],
   "source": [
    "grouped_mean.tail(12)"
   ]
  },
  {
   "cell_type": "code",
   "execution_count": 124,
   "metadata": {},
   "outputs": [],
   "source": [
    "reg = grouped_mean.groupby('year')[['extent', 'area']].mean().reset_index()"
   ]
  },
  {
   "cell_type": "code",
   "execution_count": 131,
   "metadata": {},
   "outputs": [
    {
     "data": {
      "text/html": [
       "<div>\n",
       "<style scoped>\n",
       "    .dataframe tbody tr th:only-of-type {\n",
       "        vertical-align: middle;\n",
       "    }\n",
       "\n",
       "    .dataframe tbody tr th {\n",
       "        vertical-align: top;\n",
       "    }\n",
       "\n",
       "    .dataframe thead th {\n",
       "        text-align: right;\n",
       "    }\n",
       "</style>\n",
       "<table border=\"1\" class=\"dataframe\">\n",
       "  <thead>\n",
       "    <tr style=\"text-align: right;\">\n",
       "      <th></th>\n",
       "      <th>year</th>\n",
       "      <th>extent</th>\n",
       "      <th>area</th>\n",
       "    </tr>\n",
       "  </thead>\n",
       "  <tbody>\n",
       "    <tr>\n",
       "      <th>0</th>\n",
       "      <td>1978</td>\n",
       "      <td>12.660000</td>\n",
       "      <td>9.970000</td>\n",
       "    </tr>\n",
       "    <tr>\n",
       "      <th>1</th>\n",
       "      <td>1979</td>\n",
       "      <td>12.350000</td>\n",
       "      <td>9.441667</td>\n",
       "    </tr>\n",
       "    <tr>\n",
       "      <th>2</th>\n",
       "      <td>1980</td>\n",
       "      <td>12.348333</td>\n",
       "      <td>9.388333</td>\n",
       "    </tr>\n",
       "    <tr>\n",
       "      <th>3</th>\n",
       "      <td>1981</td>\n",
       "      <td>12.146667</td>\n",
       "      <td>9.146667</td>\n",
       "    </tr>\n",
       "    <tr>\n",
       "      <th>4</th>\n",
       "      <td>1982</td>\n",
       "      <td>12.467500</td>\n",
       "      <td>9.525000</td>\n",
       "    </tr>\n",
       "  </tbody>\n",
       "</table>\n",
       "</div>"
      ],
      "text/plain": [
       "   year     extent      area\n",
       "0  1978  12.660000  9.970000\n",
       "1  1979  12.350000  9.441667\n",
       "2  1980  12.348333  9.388333\n",
       "3  1981  12.146667  9.146667\n",
       "4  1982  12.467500  9.525000"
      ]
     },
     "execution_count": 131,
     "metadata": {},
     "output_type": "execute_result"
    }
   ],
   "source": [
    "reg.head()"
   ]
  },
  {
   "cell_type": "code",
   "execution_count": 130,
   "metadata": {},
   "outputs": [
    {
     "data": {
      "text/plain": [
       "[<matplotlib.lines.Line2D at 0x28b56577d60>]"
      ]
     },
     "execution_count": 130,
     "metadata": {},
     "output_type": "execute_result"
    },
    {
     "data": {
      "image/png": "[encoded data removed]",
      "text/plain": [
       "<Figure size 640x480 with 1 Axes>"
      ]
     },
     "metadata": {},
     "output_type": "display_data"
    }
   ],
   "source": [
    "plt.plot(reg['year'],reg['extent'])"
   ]
  },
  {
   "cell_type": "code",
   "execution_count": null,
   "metadata": {},
   "outputs": [],
   "source": []
  }
 ],
 "metadata": {
  "kernelspec": {
   "display_name": "Python 3",
   "language": "python",
   "name": "python3"
  },
  "language_info": {
   "codemirror_mode": {
    "name": "ipython",
    "version": 3
   },
   "file_extension": ".py",
   "mimetype": "text/x-python",
   "name": "python",
   "nbconvert_exporter": "python",
   "pygments_lexer": "ipython3",
   "version": "3.10.0"
  }
 },
 "nbformat": 4,
 "nbformat_minor": 2
}
