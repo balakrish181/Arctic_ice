{
 "cells": [
  {
   "cell_type": "code",
   "execution_count": 1,
   "id": "57825e72",
   "metadata": {},
   "outputs": [],
   "source": [
    "import os\n",
    "import pandas as pd"
   ]
  },
  {
   "cell_type": "code",
   "execution_count": 2,
   "id": "9b845806",
   "metadata": {},
   "outputs": [
    {
     "data": {
      "text/plain": [
       "['land_ocean_temperature.txt',\n",
       " 'monthly_co2.txt',\n",
       " 'N_01_extent_v3.0.csv',\n",
       " 'N_02_extent_v3.0.csv',\n",
       " 'N_03_extent_v3.0.csv',\n",
       " 'N_04_extent_v3.0.csv',\n",
       " 'N_05_extent_v3.0.csv',\n",
       " 'N_06_extent_v3.0.csv',\n",
       " 'N_07_extent_v3.0.csv',\n",
       " 'N_08_extent_v3.0.csv',\n",
       " 'N_09_extent_v3.0.csv',\n",
       " 'N_10_extent_v3.0.csv',\n",
       " 'N_11_extent_v3.0.csv',\n",
       " 'N_12_extent_v3.0.csv']"
      ]
     },
     "execution_count": 2,
     "metadata": {},
     "output_type": "execute_result"
    }
   ],
   "source": [
    "os.listdir('data')"
   ]
  },
  {
   "cell_type": "markdown",
   "id": "33094ef0",
   "metadata": {},
   "source": [
    "## preprocess the temperature"
   ]
  },
  {
   "cell_type": "code",
   "execution_count": 3,
   "id": "12f14915",
   "metadata": {},
   "outputs": [],
   "source": [
    "import csv\n",
    "\n",
    "# Read data from the text file\n",
    "with open('data/land_ocean_temperature.txt', 'r') as file:\n",
    "    lines = file.readlines()\n",
    "\n",
    "# Extract headers and data\n",
    "headers = lines[2].split()\n",
    "data_lines = [line.split() for line in lines[4:]]\n",
    "\n",
    "# Create a CSV file and write the data\n",
    "with open('data/land_ocean_temperature.csv', 'w', newline='') as csvfile:\n",
    "    csv_writer = csv.writer(csvfile)\n",
    "    \n",
    "    # Write headers\n",
    "    csv_writer.writerow(headers)\n",
    "    \n",
    "    # Write data\n",
    "    for line in data_lines:\n",
    "        csv_writer.writerow(line)"
   ]
  },
  {
   "cell_type": "markdown",
   "id": "fc27268f",
   "metadata": {},
   "source": [
    "## preprocess co2 data from nasa and make into csv files"
   ]
  },
  {
   "cell_type": "code",
   "execution_count": 4,
   "id": "69d03af0",
   "metadata": {},
   "outputs": [],
   "source": [
    "import csv\n",
    "\n",
    "# Input and output file paths\n",
    "input_file_path = \"data/monthly_co2.txt\"\n",
    "output_file_path = \"data/monthly_co2.csv\"\n",
    "\n",
    "# Read the data from the text file\n",
    "with open(input_file_path, 'r') as txt_file:\n",
    "    lines = txt_file.readlines()\n",
    "\n",
    "# Process the data and create a list of rows for the CSV file\n",
    "data_rows = []\n",
    "for line in lines:\n",
    "    # Skip comments and empty lines\n",
    "    if line.startswith('#') or not line.strip():\n",
    "        continue\n",
    "\n",
    "    # Split the line into columns\n",
    "    columns = line.split()\n",
    "\n",
    "    # Append the columns to the data_rows list\n",
    "    data_rows.append(columns)\n",
    "\n",
    "# Write the data to a CSV file\n",
    "with open(output_file_path, 'w', newline='') as csv_file:\n",
    "    csv_writer = csv.writer(csv_file)\n",
    "    \n",
    "    # Write header\n",
    "    csv_writer.writerow([\"year\", \"month\", \"decimal_date\", \"monthly_average\", \"de_seasonalized\", \"num_days\", \"std_dev\", \"uncertainty\"])\n",
    "    \n",
    "    # Write data rows\n",
    "    csv_writer.writerows(data_rows)"
   ]
  },
  {
   "cell_type": "code",
   "execution_count": null,
   "id": "0d0524a3",
   "metadata": {},
   "outputs": [],
   "source": []
  }
 ],
 "metadata": {
  "kernelspec": {
   "display_name": "tf",
   "language": "python",
   "name": "tf"
  },
  "language_info": {
   "codemirror_mode": {
    "name": "ipython",
    "version": 3
   },
   "file_extension": ".py",
   "mimetype": "text/x-python",
   "name": "python",
   "nbconvert_exporter": "python",
   "pygments_lexer": "ipython3",
   "version": "3.9.18"
  }
 },
 "nbformat": 4,
 "nbformat_minor": 5
}
